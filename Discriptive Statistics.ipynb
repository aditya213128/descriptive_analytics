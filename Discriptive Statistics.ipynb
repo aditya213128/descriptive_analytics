{
 "cells": [
  {
   "cell_type": "code",
   "execution_count": 1,
   "metadata": {},
   "outputs": [],
   "source": [
    "#importing the few important library\n",
    "import pandas as pd\n",
    "import numpy as np\n",
    "import matplotlib.pyplot as plt \n",
    "import seaborn as sns"
   ]
  },
  {
   "cell_type": "code",
   "execution_count": 2,
   "metadata": {},
   "outputs": [],
   "source": [
    "#importing the dataset\n",
    "data=pd.read_csv(\"PacificWest-Customer-Campaign-data.csv\",sep=\",\",header=0)"
   ]
  },
  {
   "cell_type": "code",
   "execution_count": 3,
   "metadata": {},
   "outputs": [
    {
     "data": {
      "text/plain": [
       "pandas.core.frame.DataFrame"
      ]
     },
     "execution_count": 3,
     "metadata": {},
     "output_type": "execute_result"
    }
   ],
   "source": [
    "type(data)"
   ]
  },
  {
   "cell_type": "code",
   "execution_count": 9,
   "metadata": {},
   "outputs": [
    {
     "name": "stdout",
     "output_type": "stream",
     "text": [
      "<class 'pandas.core.frame.DataFrame'>\n",
      "RangeIndex: 9134 entries, 0 to 9133\n",
      "Data columns (total 24 columns):\n",
      "Customer ID                      9134 non-null object\n",
      "State                            9134 non-null object\n",
      "Location Code                    9134 non-null object\n",
      "Gender                           9134 non-null object\n",
      "Marital Status                   9134 non-null object\n",
      "Education                        9134 non-null object\n",
      "Employment Status                9134 non-null object\n",
      "Income (USD)                     9134 non-null float64\n",
      "Effective To Date                9134 non-null object\n",
      "Customer Lifetime Value (USD)    9134 non-null float64\n",
      "Coverage                         9134 non-null object\n",
      "Monthly Premium Auto (USD)       9134 non-null int64\n",
      "Number of Policies               9134 non-null int64\n",
      "Policy Type                      9134 non-null object\n",
      "Policy                           9134 non-null object\n",
      "Months Since Policy Inception    9134 non-null int64\n",
      "Months Since Last Claim          9134 non-null int64\n",
      "Sales Channel                    9134 non-null object\n",
      "Renew Offer Type                 9134 non-null object\n",
      "Number of Open Complaints        9134 non-null int64\n",
      "Total Claim Amount (USD)         9134 non-null float64\n",
      "Vehicle Class                    9134 non-null object\n",
      "Vehicle Size                     9134 non-null object\n",
      "Response                         9134 non-null object\n",
      "dtypes: float64(3), int64(5), object(16)\n",
      "memory usage: 1.7+ MB\n"
     ]
    }
   ],
   "source": [
    "data.info()"
   ]
  },
  {
   "cell_type": "code",
   "execution_count": 4,
   "metadata": {},
   "outputs": [
    {
     "data": {
      "text/plain": [
       "9134"
      ]
     },
     "execution_count": 4,
     "metadata": {},
     "output_type": "execute_result"
    }
   ],
   "source": [
    "len(data)"
   ]
  },
  {
   "cell_type": "code",
   "execution_count": 5,
   "metadata": {},
   "outputs": [
    {
     "data": {
      "text/plain": [
       "(9134, 24)"
      ]
     },
     "execution_count": 5,
     "metadata": {},
     "output_type": "execute_result"
    }
   ],
   "source": [
    "data.shape"
   ]
  },
  {
   "cell_type": "code",
   "execution_count": 6,
   "metadata": {},
   "outputs": [
    {
     "data": {
      "text/plain": [
       "Index(['Customer ID', 'State', 'Location Code', 'Gender', 'Marital Status',\n",
       "       'Education', 'Employment Status', 'Income (USD)', 'Effective To Date',\n",
       "       'Customer Lifetime Value (USD)', 'Coverage',\n",
       "       'Monthly Premium Auto (USD)', 'Number of Policies', 'Policy Type',\n",
       "       'Policy', 'Months Since Policy Inception', 'Months Since Last Claim',\n",
       "       'Sales Channel', 'Renew Offer Type', 'Number of Open Complaints',\n",
       "       'Total Claim Amount (USD)', 'Vehicle Class', 'Vehicle Size',\n",
       "       'Response'],\n",
       "      dtype='object')"
      ]
     },
     "execution_count": 6,
     "metadata": {},
     "output_type": "execute_result"
    }
   ],
   "source": [
    "data.columns"
   ]
  },
  {
   "cell_type": "code",
   "execution_count": 18,
   "metadata": {},
   "outputs": [
    {
     "data": {
      "text/html": [
       "<div>\n",
       "<style scoped>\n",
       "    .dataframe tbody tr th:only-of-type {\n",
       "        vertical-align: middle;\n",
       "    }\n",
       "\n",
       "    .dataframe tbody tr th {\n",
       "        vertical-align: top;\n",
       "    }\n",
       "\n",
       "    .dataframe thead th {\n",
       "        text-align: right;\n",
       "    }\n",
       "</style>\n",
       "<table border=\"1\" class=\"dataframe\">\n",
       "  <thead>\n",
       "    <tr style=\"text-align: right;\">\n",
       "      <th></th>\n",
       "      <th>Customer ID</th>\n",
       "      <th>State</th>\n",
       "      <th>Location Code</th>\n",
       "      <th>Gender</th>\n",
       "      <th>Marital Status</th>\n",
       "      <th>Education</th>\n",
       "      <th>Employment Status</th>\n",
       "      <th>Income (USD)</th>\n",
       "      <th>Effective To Date</th>\n",
       "      <th>Customer Lifetime Value (USD)</th>\n",
       "      <th>...</th>\n",
       "      <th>Policy</th>\n",
       "      <th>Months Since Policy Inception</th>\n",
       "      <th>Months Since Last Claim</th>\n",
       "      <th>Sales Channel</th>\n",
       "      <th>Renew Offer Type</th>\n",
       "      <th>Number of Open Complaints</th>\n",
       "      <th>Total Claim Amount (USD)</th>\n",
       "      <th>Vehicle Class</th>\n",
       "      <th>Vehicle Size</th>\n",
       "      <th>Response</th>\n",
       "    </tr>\n",
       "  </thead>\n",
       "  <tbody>\n",
       "    <tr>\n",
       "      <td>0</td>\n",
       "      <td>BU79786</td>\n",
       "      <td>Washington</td>\n",
       "      <td>Suburban</td>\n",
       "      <td>F</td>\n",
       "      <td>Married</td>\n",
       "      <td>Bachelor</td>\n",
       "      <td>Employed</td>\n",
       "      <td>56,274.00</td>\n",
       "      <td>24-Feb-11</td>\n",
       "      <td>2,763.52</td>\n",
       "      <td>...</td>\n",
       "      <td>Corporate L3</td>\n",
       "      <td>5</td>\n",
       "      <td>32</td>\n",
       "      <td>Agent</td>\n",
       "      <td>Offer1</td>\n",
       "      <td>0</td>\n",
       "      <td>384.81</td>\n",
       "      <td>Two-Door Car</td>\n",
       "      <td>Medsize</td>\n",
       "      <td>No</td>\n",
       "    </tr>\n",
       "    <tr>\n",
       "      <td>1</td>\n",
       "      <td>QZ44356</td>\n",
       "      <td>Arizona</td>\n",
       "      <td>Suburban</td>\n",
       "      <td>F</td>\n",
       "      <td>Single</td>\n",
       "      <td>Bachelor</td>\n",
       "      <td>Unemployed</td>\n",
       "      <td>0</td>\n",
       "      <td>31-Jan-11</td>\n",
       "      <td>6,979.54</td>\n",
       "      <td>...</td>\n",
       "      <td>Personal L3</td>\n",
       "      <td>42</td>\n",
       "      <td>13</td>\n",
       "      <td>Agent</td>\n",
       "      <td>Offer3</td>\n",
       "      <td>0</td>\n",
       "      <td>1,131.46</td>\n",
       "      <td>Four-Door Car</td>\n",
       "      <td>Medsize</td>\n",
       "      <td>No</td>\n",
       "    </tr>\n",
       "    <tr>\n",
       "      <td>2</td>\n",
       "      <td>AI49188</td>\n",
       "      <td>Nevada</td>\n",
       "      <td>Suburban</td>\n",
       "      <td>F</td>\n",
       "      <td>Married</td>\n",
       "      <td>Bachelor</td>\n",
       "      <td>Employed</td>\n",
       "      <td>48,767.00</td>\n",
       "      <td>19-Feb-11</td>\n",
       "      <td>12,887.43</td>\n",
       "      <td>...</td>\n",
       "      <td>Personal L3</td>\n",
       "      <td>38</td>\n",
       "      <td>18</td>\n",
       "      <td>Agent</td>\n",
       "      <td>Offer1</td>\n",
       "      <td>0</td>\n",
       "      <td>566.47</td>\n",
       "      <td>Two-Door Car</td>\n",
       "      <td>Medsize</td>\n",
       "      <td>No</td>\n",
       "    </tr>\n",
       "    <tr>\n",
       "      <td>3</td>\n",
       "      <td>WW63253</td>\n",
       "      <td>California</td>\n",
       "      <td>Suburban</td>\n",
       "      <td>M</td>\n",
       "      <td>Married</td>\n",
       "      <td>Bachelor</td>\n",
       "      <td>Unemployed</td>\n",
       "      <td>0</td>\n",
       "      <td>20-Jan-11</td>\n",
       "      <td>7,645.86</td>\n",
       "      <td>...</td>\n",
       "      <td>Corporate L2</td>\n",
       "      <td>65</td>\n",
       "      <td>18</td>\n",
       "      <td>Call Center</td>\n",
       "      <td>Offer1</td>\n",
       "      <td>0</td>\n",
       "      <td>529.88</td>\n",
       "      <td>SUV</td>\n",
       "      <td>Medsize</td>\n",
       "      <td>No</td>\n",
       "    </tr>\n",
       "    <tr>\n",
       "      <td>4</td>\n",
       "      <td>HB64268</td>\n",
       "      <td>Washington</td>\n",
       "      <td>Rural</td>\n",
       "      <td>M</td>\n",
       "      <td>Single</td>\n",
       "      <td>Bachelor</td>\n",
       "      <td>Employed</td>\n",
       "      <td>43,836.00</td>\n",
       "      <td>03-Feb-11</td>\n",
       "      <td>2,813.69</td>\n",
       "      <td>...</td>\n",
       "      <td>Personal L1</td>\n",
       "      <td>44</td>\n",
       "      <td>12</td>\n",
       "      <td>Agent</td>\n",
       "      <td>Offer1</td>\n",
       "      <td>0</td>\n",
       "      <td>138.13</td>\n",
       "      <td>Four-Door Car</td>\n",
       "      <td>Medsize</td>\n",
       "      <td>No</td>\n",
       "    </tr>\n",
       "  </tbody>\n",
       "</table>\n",
       "<p>5 rows × 24 columns</p>\n",
       "</div>"
      ],
      "text/plain": [
       "  Customer ID       State Location Code Gender Marital Status Education  \\\n",
       "0     BU79786  Washington      Suburban      F        Married  Bachelor   \n",
       "1     QZ44356     Arizona      Suburban      F         Single  Bachelor   \n",
       "2     AI49188      Nevada      Suburban      F        Married  Bachelor   \n",
       "3     WW63253  California      Suburban      M        Married  Bachelor   \n",
       "4     HB64268  Washington         Rural      M         Single  Bachelor   \n",
       "\n",
       "  Employment Status Income (USD) Effective To Date  \\\n",
       "0          Employed    56,274.00         24-Feb-11   \n",
       "1        Unemployed            0         31-Jan-11   \n",
       "2          Employed    48,767.00         19-Feb-11   \n",
       "3        Unemployed            0         20-Jan-11   \n",
       "4          Employed    43,836.00         03-Feb-11   \n",
       "\n",
       "  Customer Lifetime Value (USD)  ...        Policy  \\\n",
       "0                      2,763.52  ...  Corporate L3   \n",
       "1                      6,979.54  ...   Personal L3   \n",
       "2                     12,887.43  ...   Personal L3   \n",
       "3                      7,645.86  ...  Corporate L2   \n",
       "4                      2,813.69  ...   Personal L1   \n",
       "\n",
       "   Months Since Policy Inception  Months Since Last Claim Sales Channel  \\\n",
       "0                              5                       32         Agent   \n",
       "1                             42                       13         Agent   \n",
       "2                             38                       18         Agent   \n",
       "3                             65                       18   Call Center   \n",
       "4                             44                       12         Agent   \n",
       "\n",
       "  Renew Offer Type  Number of Open Complaints  Total Claim Amount (USD)  \\\n",
       "0           Offer1                          0                    384.81   \n",
       "1           Offer3                          0                  1,131.46   \n",
       "2           Offer1                          0                    566.47   \n",
       "3           Offer1                          0                    529.88   \n",
       "4           Offer1                          0                    138.13   \n",
       "\n",
       "   Vehicle Class Vehicle Size  Response  \n",
       "0   Two-Door Car      Medsize        No  \n",
       "1  Four-Door Car      Medsize        No  \n",
       "2   Two-Door Car      Medsize        No  \n",
       "3            SUV      Medsize        No  \n",
       "4  Four-Door Car      Medsize        No  \n",
       "\n",
       "[5 rows x 24 columns]"
      ]
     },
     "execution_count": 18,
     "metadata": {},
     "output_type": "execute_result"
    }
   ],
   "source": [
    "data.head()\n",
    "#data.tail()"
   ]
  },
  {
   "cell_type": "code",
   "execution_count": 183,
   "metadata": {},
   "outputs": [],
   "source": [
    "#data.info()"
   ]
  },
  {
   "cell_type": "code",
   "execution_count": 182,
   "metadata": {},
   "outputs": [],
   "source": [
    "#converting Object variables to float variables\n",
    "\n",
    "#list(map(lambda s: float (s.replace (',', '')), data['Customer Lifetime Value (USD)']))\n",
    "#list(map(lambda s: float (s.replace (',', '')), data['Income (USD)']))\n",
    "#list(map(lambda s: float (s.replace (',', '')), data['Total Claim Amount (USD)']))"
   ]
  },
  {
   "cell_type": "code",
   "execution_count": 7,
   "metadata": {},
   "outputs": [],
   "source": [
    "data['Customer Lifetime Value (USD)'] = data['Customer Lifetime Value (USD)'].str.replace(',', '').astype(float)\n",
    "data['Income (USD)'] = data['Income (USD)'].str.replace(',', '').astype(float)\n",
    "data['Total Claim Amount (USD)'] = data['Total Claim Amount (USD)'].str.replace(',', '').astype(float)"
   ]
  },
  {
   "cell_type": "code",
   "execution_count": 184,
   "metadata": {},
   "outputs": [],
   "source": [
    "#data.info()"
   ]
  },
  {
   "cell_type": "code",
   "execution_count": 8,
   "metadata": {},
   "outputs": [
    {
     "name": "stdout",
     "output_type": "stream",
     "text": [
      "Number of customers:  9134\n"
     ]
    }
   ],
   "source": [
    "print('Number of customers: ', len(data['Customer ID'].unique()))"
   ]
  },
  {
   "cell_type": "code",
   "execution_count": 20,
   "metadata": {},
   "outputs": [
    {
     "data": {
      "text/html": [
       "<div>\n",
       "<style scoped>\n",
       "    .dataframe tbody tr th:only-of-type {\n",
       "        vertical-align: middle;\n",
       "    }\n",
       "\n",
       "    .dataframe tbody tr th {\n",
       "        vertical-align: top;\n",
       "    }\n",
       "\n",
       "    .dataframe thead th {\n",
       "        text-align: right;\n",
       "    }\n",
       "</style>\n",
       "<table border=\"1\" class=\"dataframe\">\n",
       "  <thead>\n",
       "    <tr style=\"text-align: right;\">\n",
       "      <th></th>\n",
       "      <th>Monthly Premium Auto (USD)</th>\n",
       "      <th>Number of Policies</th>\n",
       "      <th>Months Since Policy Inception</th>\n",
       "      <th>Months Since Last Claim</th>\n",
       "      <th>Number of Open Complaints</th>\n",
       "    </tr>\n",
       "  </thead>\n",
       "  <tbody>\n",
       "    <tr>\n",
       "      <td>count</td>\n",
       "      <td>9134.000000</td>\n",
       "      <td>9134.000000</td>\n",
       "      <td>9134.000000</td>\n",
       "      <td>9134.000000</td>\n",
       "      <td>9134.000000</td>\n",
       "    </tr>\n",
       "    <tr>\n",
       "      <td>mean</td>\n",
       "      <td>93.219291</td>\n",
       "      <td>2.966170</td>\n",
       "      <td>48.064594</td>\n",
       "      <td>15.097000</td>\n",
       "      <td>0.384388</td>\n",
       "    </tr>\n",
       "    <tr>\n",
       "      <td>std</td>\n",
       "      <td>34.407967</td>\n",
       "      <td>2.390182</td>\n",
       "      <td>27.905991</td>\n",
       "      <td>10.073257</td>\n",
       "      <td>0.910384</td>\n",
       "    </tr>\n",
       "    <tr>\n",
       "      <td>min</td>\n",
       "      <td>61.000000</td>\n",
       "      <td>1.000000</td>\n",
       "      <td>0.000000</td>\n",
       "      <td>0.000000</td>\n",
       "      <td>0.000000</td>\n",
       "    </tr>\n",
       "    <tr>\n",
       "      <td>25%</td>\n",
       "      <td>68.000000</td>\n",
       "      <td>1.000000</td>\n",
       "      <td>24.000000</td>\n",
       "      <td>6.000000</td>\n",
       "      <td>0.000000</td>\n",
       "    </tr>\n",
       "    <tr>\n",
       "      <td>50%</td>\n",
       "      <td>83.000000</td>\n",
       "      <td>2.000000</td>\n",
       "      <td>48.000000</td>\n",
       "      <td>14.000000</td>\n",
       "      <td>0.000000</td>\n",
       "    </tr>\n",
       "    <tr>\n",
       "      <td>75%</td>\n",
       "      <td>109.000000</td>\n",
       "      <td>4.000000</td>\n",
       "      <td>71.000000</td>\n",
       "      <td>23.000000</td>\n",
       "      <td>0.000000</td>\n",
       "    </tr>\n",
       "    <tr>\n",
       "      <td>max</td>\n",
       "      <td>298.000000</td>\n",
       "      <td>9.000000</td>\n",
       "      <td>99.000000</td>\n",
       "      <td>35.000000</td>\n",
       "      <td>5.000000</td>\n",
       "    </tr>\n",
       "  </tbody>\n",
       "</table>\n",
       "</div>"
      ],
      "text/plain": [
       "       Monthly Premium Auto (USD)  Number of Policies  \\\n",
       "count                 9134.000000         9134.000000   \n",
       "mean                    93.219291            2.966170   \n",
       "std                     34.407967            2.390182   \n",
       "min                     61.000000            1.000000   \n",
       "25%                     68.000000            1.000000   \n",
       "50%                     83.000000            2.000000   \n",
       "75%                    109.000000            4.000000   \n",
       "max                    298.000000            9.000000   \n",
       "\n",
       "       Months Since Policy Inception  Months Since Last Claim  \\\n",
       "count                    9134.000000              9134.000000   \n",
       "mean                       48.064594                15.097000   \n",
       "std                        27.905991                10.073257   \n",
       "min                         0.000000                 0.000000   \n",
       "25%                        24.000000                 6.000000   \n",
       "50%                        48.000000                14.000000   \n",
       "75%                        71.000000                23.000000   \n",
       "max                        99.000000                35.000000   \n",
       "\n",
       "       Number of Open Complaints  \n",
       "count                9134.000000  \n",
       "mean                    0.384388  \n",
       "std                     0.910384  \n",
       "min                     0.000000  \n",
       "25%                     0.000000  \n",
       "50%                     0.000000  \n",
       "75%                     0.000000  \n",
       "max                     5.000000  "
      ]
     },
     "execution_count": 20,
     "metadata": {},
     "output_type": "execute_result"
    }
   ],
   "source": [
    "#automatically Discription of numeric variables\n",
    "data.describe()"
   ]
  },
  {
   "cell_type": "code",
   "execution_count": 19,
   "metadata": {},
   "outputs": [
    {
     "data": {
      "text/plain": [
       "California    3150\n",
       "Oregon        2601\n",
       "Arizona       1703\n",
       "Nevada         882\n",
       "Washington     798\n",
       "Name: State, dtype: int64"
      ]
     },
     "execution_count": 19,
     "metadata": {},
     "output_type": "execute_result"
    }
   ],
   "source": [
    "#distribution of categorical variables\n",
    "data['State'].value_counts()"
   ]
  },
  {
   "cell_type": "code",
   "execution_count": 87,
   "metadata": {},
   "outputs": [
    {
     "name": "stdout",
     "output_type": "stream",
     "text": [
      "Number of numerical variables:  8\n"
     ]
    },
    {
     "data": {
      "text/html": [
       "<div>\n",
       "<style scoped>\n",
       "    .dataframe tbody tr th:only-of-type {\n",
       "        vertical-align: middle;\n",
       "    }\n",
       "\n",
       "    .dataframe tbody tr th {\n",
       "        vertical-align: top;\n",
       "    }\n",
       "\n",
       "    .dataframe thead th {\n",
       "        text-align: right;\n",
       "    }\n",
       "</style>\n",
       "<table border=\"1\" class=\"dataframe\">\n",
       "  <thead>\n",
       "    <tr style=\"text-align: right;\">\n",
       "      <th></th>\n",
       "      <th>Income (USD)</th>\n",
       "      <th>Customer Lifetime Value (USD)</th>\n",
       "      <th>Monthly Premium Auto (USD)</th>\n",
       "      <th>Number of Policies</th>\n",
       "      <th>Months Since Policy Inception</th>\n",
       "      <th>Months Since Last Claim</th>\n",
       "      <th>Number of Open Complaints</th>\n",
       "      <th>Total Claim Amount (USD)</th>\n",
       "    </tr>\n",
       "  </thead>\n",
       "  <tbody>\n",
       "    <tr>\n",
       "      <td>0</td>\n",
       "      <td>56274.0</td>\n",
       "      <td>2763.52</td>\n",
       "      <td>69</td>\n",
       "      <td>1</td>\n",
       "      <td>5</td>\n",
       "      <td>32</td>\n",
       "      <td>0</td>\n",
       "      <td>384.81</td>\n",
       "    </tr>\n",
       "    <tr>\n",
       "      <td>1</td>\n",
       "      <td>0.0</td>\n",
       "      <td>6979.54</td>\n",
       "      <td>94</td>\n",
       "      <td>8</td>\n",
       "      <td>42</td>\n",
       "      <td>13</td>\n",
       "      <td>0</td>\n",
       "      <td>1131.46</td>\n",
       "    </tr>\n",
       "    <tr>\n",
       "      <td>2</td>\n",
       "      <td>48767.0</td>\n",
       "      <td>12887.43</td>\n",
       "      <td>108</td>\n",
       "      <td>2</td>\n",
       "      <td>38</td>\n",
       "      <td>18</td>\n",
       "      <td>0</td>\n",
       "      <td>566.47</td>\n",
       "    </tr>\n",
       "    <tr>\n",
       "      <td>3</td>\n",
       "      <td>0.0</td>\n",
       "      <td>7645.86</td>\n",
       "      <td>106</td>\n",
       "      <td>7</td>\n",
       "      <td>65</td>\n",
       "      <td>18</td>\n",
       "      <td>0</td>\n",
       "      <td>529.88</td>\n",
       "    </tr>\n",
       "    <tr>\n",
       "      <td>4</td>\n",
       "      <td>43836.0</td>\n",
       "      <td>2813.69</td>\n",
       "      <td>73</td>\n",
       "      <td>1</td>\n",
       "      <td>44</td>\n",
       "      <td>12</td>\n",
       "      <td>0</td>\n",
       "      <td>138.13</td>\n",
       "    </tr>\n",
       "  </tbody>\n",
       "</table>\n",
       "</div>"
      ],
      "text/plain": [
       "   Income (USD)  Customer Lifetime Value (USD)  Monthly Premium Auto (USD)  \\\n",
       "0       56274.0                        2763.52                          69   \n",
       "1           0.0                        6979.54                          94   \n",
       "2       48767.0                       12887.43                         108   \n",
       "3           0.0                        7645.86                         106   \n",
       "4       43836.0                        2813.69                          73   \n",
       "\n",
       "   Number of Policies  Months Since Policy Inception  Months Since Last Claim  \\\n",
       "0                   1                              5                       32   \n",
       "1                   8                             42                       13   \n",
       "2                   2                             38                       18   \n",
       "3                   7                             65                       18   \n",
       "4                   1                             44                       12   \n",
       "\n",
       "   Number of Open Complaints  Total Claim Amount (USD)  \n",
       "0                          0                    384.81  \n",
       "1                          0                   1131.46  \n",
       "2                          0                    566.47  \n",
       "3                          0                    529.88  \n",
       "4                          0                    138.13  "
      ]
     },
     "execution_count": 87,
     "metadata": {},
     "output_type": "execute_result"
    }
   ],
   "source": [
    "# make list of numerical variables\n",
    "num_vars = [var for var in data.columns if data[var].dtypes != 'O']\n",
    "print('Number of numerical variables: ', len(num_vars))\n",
    "\n",
    "# visualise the numerical variables\n",
    "data[num_vars].head()"
   ]
  },
  {
   "cell_type": "code",
   "execution_count": 89,
   "metadata": {},
   "outputs": [
    {
     "name": "stdout",
     "output_type": "stream",
     "text": [
      "Number of discrete variables:  2\n"
     ]
    }
   ],
   "source": [
    "#  let's male a list of discrete variables\n",
    "discrete_vars = [var for var in num_vars if len(\n",
    "    data[var].unique()) < 20]\n",
    "\n",
    "print('Number of discrete variables: ', len(discrete_vars))"
   ]
  },
  {
   "cell_type": "code",
   "execution_count": 90,
   "metadata": {},
   "outputs": [
    {
     "data": {
      "text/plain": [
       "['Number of Policies', 'Number of Open Complaints']"
      ]
     },
     "execution_count": 90,
     "metadata": {},
     "output_type": "execute_result"
    }
   ],
   "source": [
    "discrete_vars"
   ]
  },
  {
   "cell_type": "code",
   "execution_count": 91,
   "metadata": {},
   "outputs": [
    {
     "name": "stdout",
     "output_type": "stream",
     "text": [
      "Number of continuous variables:  6\n"
     ]
    }
   ],
   "source": [
    "# make list of continuous variables\n",
    "cont_vars = [\n",
    "    var for var in num_vars if var not in discrete_vars]\n",
    "print('Number of continuous variables: ', len(cont_vars))"
   ]
  },
  {
   "cell_type": "code",
   "execution_count": 92,
   "metadata": {},
   "outputs": [
    {
     "data": {
      "text/plain": [
       "['Income (USD)',\n",
       " 'Customer Lifetime Value (USD)',\n",
       " 'Monthly Premium Auto (USD)',\n",
       " 'Months Since Policy Inception',\n",
       " 'Months Since Last Claim',\n",
       " 'Total Claim Amount (USD)']"
      ]
     },
     "execution_count": 92,
     "metadata": {},
     "output_type": "execute_result"
    }
   ],
   "source": [
    "cont_vars"
   ]
  },
  {
   "cell_type": "code",
   "execution_count": 129,
   "metadata": {},
   "outputs": [
    {
     "data": {
      "text/html": [
       "<div>\n",
       "<style scoped>\n",
       "    .dataframe tbody tr th:only-of-type {\n",
       "        vertical-align: middle;\n",
       "    }\n",
       "\n",
       "    .dataframe tbody tr th {\n",
       "        vertical-align: top;\n",
       "    }\n",
       "\n",
       "    .dataframe thead th {\n",
       "        text-align: right;\n",
       "    }\n",
       "</style>\n",
       "<table border=\"1\" class=\"dataframe\">\n",
       "  <thead>\n",
       "    <tr style=\"text-align: right;\">\n",
       "      <th></th>\n",
       "      <th>Income (USD)</th>\n",
       "      <th>Customer Lifetime Value (USD)</th>\n",
       "      <th>Monthly Premium Auto (USD)</th>\n",
       "      <th>Months Since Policy Inception</th>\n",
       "      <th>Months Since Last Claim</th>\n",
       "      <th>Total Claim Amount (USD)</th>\n",
       "    </tr>\n",
       "  </thead>\n",
       "  <tbody>\n",
       "    <tr>\n",
       "      <td>count</td>\n",
       "      <td>9134.000000</td>\n",
       "      <td>9134.000000</td>\n",
       "      <td>9134.000000</td>\n",
       "      <td>9134.000000</td>\n",
       "      <td>9134.000000</td>\n",
       "      <td>9134.000000</td>\n",
       "    </tr>\n",
       "    <tr>\n",
       "      <td>mean</td>\n",
       "      <td>37657.380009</td>\n",
       "      <td>8004.940475</td>\n",
       "      <td>93.219291</td>\n",
       "      <td>48.064594</td>\n",
       "      <td>15.097000</td>\n",
       "      <td>434.088834</td>\n",
       "    </tr>\n",
       "    <tr>\n",
       "      <td>std</td>\n",
       "      <td>30379.904734</td>\n",
       "      <td>6870.967602</td>\n",
       "      <td>34.407967</td>\n",
       "      <td>27.905991</td>\n",
       "      <td>10.073257</td>\n",
       "      <td>290.500043</td>\n",
       "    </tr>\n",
       "    <tr>\n",
       "      <td>min</td>\n",
       "      <td>0.000000</td>\n",
       "      <td>1898.010000</td>\n",
       "      <td>61.000000</td>\n",
       "      <td>0.000000</td>\n",
       "      <td>0.000000</td>\n",
       "      <td>0.100000</td>\n",
       "    </tr>\n",
       "    <tr>\n",
       "      <td>25%</td>\n",
       "      <td>0.000000</td>\n",
       "      <td>3994.250000</td>\n",
       "      <td>68.000000</td>\n",
       "      <td>24.000000</td>\n",
       "      <td>6.000000</td>\n",
       "      <td>272.260000</td>\n",
       "    </tr>\n",
       "    <tr>\n",
       "      <td>50%</td>\n",
       "      <td>33889.500000</td>\n",
       "      <td>5780.180000</td>\n",
       "      <td>83.000000</td>\n",
       "      <td>48.000000</td>\n",
       "      <td>14.000000</td>\n",
       "      <td>383.945000</td>\n",
       "    </tr>\n",
       "    <tr>\n",
       "      <td>75%</td>\n",
       "      <td>62320.000000</td>\n",
       "      <td>8962.170000</td>\n",
       "      <td>109.000000</td>\n",
       "      <td>71.000000</td>\n",
       "      <td>23.000000</td>\n",
       "      <td>547.515000</td>\n",
       "    </tr>\n",
       "    <tr>\n",
       "      <td>max</td>\n",
       "      <td>99981.000000</td>\n",
       "      <td>83325.380000</td>\n",
       "      <td>298.000000</td>\n",
       "      <td>99.000000</td>\n",
       "      <td>35.000000</td>\n",
       "      <td>2893.240000</td>\n",
       "    </tr>\n",
       "  </tbody>\n",
       "</table>\n",
       "</div>"
      ],
      "text/plain": [
       "       Income (USD)  Customer Lifetime Value (USD)  \\\n",
       "count   9134.000000                    9134.000000   \n",
       "mean   37657.380009                    8004.940475   \n",
       "std    30379.904734                    6870.967602   \n",
       "min        0.000000                    1898.010000   \n",
       "25%        0.000000                    3994.250000   \n",
       "50%    33889.500000                    5780.180000   \n",
       "75%    62320.000000                    8962.170000   \n",
       "max    99981.000000                   83325.380000   \n",
       "\n",
       "       Monthly Premium Auto (USD)  Months Since Policy Inception  \\\n",
       "count                 9134.000000                    9134.000000   \n",
       "mean                    93.219291                      48.064594   \n",
       "std                     34.407967                      27.905991   \n",
       "min                     61.000000                       0.000000   \n",
       "25%                     68.000000                      24.000000   \n",
       "50%                     83.000000                      48.000000   \n",
       "75%                    109.000000                      71.000000   \n",
       "max                    298.000000                      99.000000   \n",
       "\n",
       "       Months Since Last Claim  Total Claim Amount (USD)  \n",
       "count              9134.000000               9134.000000  \n",
       "mean                 15.097000                434.088834  \n",
       "std                  10.073257                290.500043  \n",
       "min                   0.000000                  0.100000  \n",
       "25%                   6.000000                272.260000  \n",
       "50%                  14.000000                383.945000  \n",
       "75%                  23.000000                547.515000  \n",
       "max                  35.000000               2893.240000  "
      ]
     },
     "execution_count": 129,
     "metadata": {},
     "output_type": "execute_result"
    }
   ],
   "source": [
    "data[cont_vars].describe()"
   ]
  },
  {
   "cell_type": "code",
   "execution_count": null,
   "metadata": {},
   "outputs": [],
   "source": [
    "#Function\tDescription\n",
    "1\tcount()\tNumber of non-null observations\n",
    "2\tsum()\tSum of values\n",
    "3\tmean()\tMean of Values\n",
    "4\tmedian()\tMedian of Values\n",
    "5\tmode()\tMode of values\n",
    "6\tstd()\tStandard Deviation of the Values\n",
    "7\tmin()\tMinimum Value\n",
    "8\tmax()\tMaximum Value\n",
    "9\tabs()\tAbsolute Value\n",
    "10\tprod()\tProduct of Values\n",
    "11\tcumsum()\tCumulative Sum\n",
    "12\tcumprod()\tCumulative Product"
   ]
  },
  {
   "cell_type": "code",
   "execution_count": 138,
   "metadata": {},
   "outputs": [
    {
     "data": {
      "text/html": [
       "<div>\n",
       "<style scoped>\n",
       "    .dataframe tbody tr th:only-of-type {\n",
       "        vertical-align: middle;\n",
       "    }\n",
       "\n",
       "    .dataframe tbody tr th {\n",
       "        vertical-align: top;\n",
       "    }\n",
       "\n",
       "    .dataframe thead th {\n",
       "        text-align: right;\n",
       "    }\n",
       "</style>\n",
       "<table border=\"1\" class=\"dataframe\">\n",
       "  <thead>\n",
       "    <tr style=\"text-align: right;\">\n",
       "      <th></th>\n",
       "      <th>Income (USD)</th>\n",
       "      <th>Customer Lifetime Value (USD)</th>\n",
       "      <th>Monthly Premium Auto (USD)</th>\n",
       "      <th>Months Since Policy Inception</th>\n",
       "      <th>Months Since Last Claim</th>\n",
       "      <th>Total Claim Amount (USD)</th>\n",
       "    </tr>\n",
       "  </thead>\n",
       "  <tbody>\n",
       "    <tr>\n",
       "      <td>0.10</td>\n",
       "      <td>0.0</td>\n",
       "      <td>2661.757</td>\n",
       "      <td>64.0</td>\n",
       "      <td>10.0</td>\n",
       "      <td>2.0</td>\n",
       "      <td>104.085</td>\n",
       "    </tr>\n",
       "    <tr>\n",
       "      <td>0.25</td>\n",
       "      <td>0.0</td>\n",
       "      <td>3994.250</td>\n",
       "      <td>68.0</td>\n",
       "      <td>24.0</td>\n",
       "      <td>6.0</td>\n",
       "      <td>272.260</td>\n",
       "    </tr>\n",
       "    <tr>\n",
       "      <td>0.50</td>\n",
       "      <td>33889.5</td>\n",
       "      <td>5780.180</td>\n",
       "      <td>83.0</td>\n",
       "      <td>48.0</td>\n",
       "      <td>14.0</td>\n",
       "      <td>383.945</td>\n",
       "    </tr>\n",
       "    <tr>\n",
       "      <td>0.75</td>\n",
       "      <td>62320.0</td>\n",
       "      <td>8962.170</td>\n",
       "      <td>109.0</td>\n",
       "      <td>71.0</td>\n",
       "      <td>23.0</td>\n",
       "      <td>547.515</td>\n",
       "    </tr>\n",
       "  </tbody>\n",
       "</table>\n",
       "</div>"
      ],
      "text/plain": [
       "      Income (USD)  Customer Lifetime Value (USD)  Monthly Premium Auto (USD)  \\\n",
       "0.10           0.0                       2661.757                        64.0   \n",
       "0.25           0.0                       3994.250                        68.0   \n",
       "0.50       33889.5                       5780.180                        83.0   \n",
       "0.75       62320.0                       8962.170                       109.0   \n",
       "\n",
       "      Months Since Policy Inception  Months Since Last Claim  \\\n",
       "0.10                           10.0                      2.0   \n",
       "0.25                           24.0                      6.0   \n",
       "0.50                           48.0                     14.0   \n",
       "0.75                           71.0                     23.0   \n",
       "\n",
       "      Total Claim Amount (USD)  \n",
       "0.10                   104.085  \n",
       "0.25                   272.260  \n",
       "0.50                   383.945  \n",
       "0.75                   547.515  "
      ]
     },
     "execution_count": 138,
     "metadata": {},
     "output_type": "execute_result"
    }
   ],
   "source": [
    "#quantile distribution\n",
    "data[cont_vars].quantile([.1, .25, .5, .75], axis = 0)"
   ]
  },
  {
   "cell_type": "code",
   "execution_count": 139,
   "metadata": {},
   "outputs": [
    {
     "data": {
      "text/plain": [
       "Income (USD)                     0.286887\n",
       "Customer Lifetime Value (USD)    3.032280\n",
       "Monthly Premium Auto (USD)       2.123546\n",
       "Months Since Policy Inception    0.040165\n",
       "Months Since Last Claim          0.278586\n",
       "Total Claim Amount (USD)         1.714965\n",
       "dtype: float64"
      ]
     },
     "execution_count": 139,
     "metadata": {},
     "output_type": "execute_result"
    }
   ],
   "source": [
    "data[cont_vars].skew()\n",
    "\n",
    "#Highly skewed distribution: If the skewness value is less than −1 or greater than +1.\n",
    "#Moderately skewed distribution: If the skewness value is between −1 and −½ or between +½ and +1.\n",
    "#Approximately symmetric distribution: If the skewness value is between −½ and +½."
   ]
  },
  {
   "cell_type": "code",
   "execution_count": 122,
   "metadata": {},
   "outputs": [
    {
     "name": "stdout",
     "output_type": "stream",
     "text": [
      "Number of categorical variables:  14\n"
     ]
    },
    {
     "data": {
      "text/plain": [
       "['State',\n",
       " 'Location Code',\n",
       " 'Gender',\n",
       " 'Marital Status',\n",
       " 'Education',\n",
       " 'Employment Status',\n",
       " 'Coverage',\n",
       " 'Policy Type',\n",
       " 'Policy',\n",
       " 'Sales Channel',\n",
       " 'Response',\n",
       " 'Renew Offer Type',\n",
       " 'Vehicle Class',\n",
       " 'Vehicle Size']"
      ]
     },
     "execution_count": 122,
     "metadata": {},
     "output_type": "execute_result"
    }
   ],
   "source": [
    "# capture categorical variables in a list\n",
    "cat_vars = [var for var in data.columns if data[var].dtypes == 'O' and var not in ['Customer ID','Effective To Date']]\n",
    "\n",
    "print('Number of categorical variables: ', len(cat_vars))\n",
    "cat_vars"
   ]
  },
  {
   "cell_type": "code",
   "execution_count": 123,
   "metadata": {
    "scrolled": true
   },
   "outputs": [
    {
     "data": {
      "text/plain": [
       "State                5\n",
       "Location Code        3\n",
       "Gender               2\n",
       "Marital Status       3\n",
       "Education            5\n",
       "Employment Status    5\n",
       "Coverage             3\n",
       "Policy Type          3\n",
       "Policy               9\n",
       "Sales Channel        4\n",
       "Response             2\n",
       "Renew Offer Type     4\n",
       "Vehicle Class        6\n",
       "Vehicle Size         3\n",
       "dtype: int64"
      ]
     },
     "execution_count": 123,
     "metadata": {},
     "output_type": "execute_result"
    }
   ],
   "source": [
    "#count of unique categories\n",
    "data[cat_vars].nunique()"
   ]
  },
  {
   "cell_type": "code",
   "execution_count": 128,
   "metadata": {},
   "outputs": [
    {
     "data": {
      "text/plain": [
       "California    3150\n",
       "Oregon        2601\n",
       "Arizona       1703\n",
       "Nevada         882\n",
       "Washington     798\n",
       "Name: State, dtype: int64"
      ]
     },
     "execution_count": 128,
     "metadata": {},
     "output_type": "execute_result"
    }
   ],
   "source": [
    "#count of each categories for categorical variables\n",
    "data['State'].value_counts(sort=True,ascending=False)"
   ]
  },
  {
   "cell_type": "code",
   "execution_count": 126,
   "metadata": {},
   "outputs": [
    {
     "data": {
      "text/plain": [
       "Number of Policies           9\n",
       "Number of Open Complaints    6\n",
       "dtype: int64"
      ]
     },
     "execution_count": 126,
     "metadata": {},
     "output_type": "execute_result"
    }
   ],
   "source": [
    "#count of unique categories for discrete variables\n",
    "data[discrete_vars].nunique()"
   ]
  },
  {
   "cell_type": "code",
   "execution_count": null,
   "metadata": {},
   "outputs": [],
   "source": [
    "##Visualizations of (continuous variables) and (Categorical +Discrete Variables)\n",
    "#list of variables\n",
    "cont_vars\n",
    "discrete_vars\n",
    "cat_vars"
   ]
  },
  {
   "cell_type": "code",
   "execution_count": 145,
   "metadata": {},
   "outputs": [
    {
     "data": {
      "image/png": "[encoded data removed]",
      "text/plain": [
       "<Figure size 432x288 with 6 Axes>"
      ]
     },
     "metadata": {
      "needs_background": "light"
     },
     "output_type": "display_data"
    },
    {
     "data": {
      "image/png": "[encoded data removed]",
      "text/plain": [
       "<Figure size 432x288 with 6 Axes>"
      ]
     },
     "metadata": {
      "needs_background": "light"
     },
     "output_type": "display_data"
    },
    {
     "data": {
      "image/png": "[encoded data removed]",
      "text/plain": [
       "<Figure size 432x288 with 6 Axes>"
      ]
     },
     "metadata": {
      "needs_background": "light"
     },
     "output_type": "display_data"
    },
    {
     "data": {
      "image/png": "[encoded data removed]",
      "text/plain": [
       "<Figure size 432x288 with 6 Axes>"
      ]
     },
     "metadata": {
      "needs_background": "light"
     },
     "output_type": "display_data"
    },
    {
     "data": {
      "image/png": "[encoded data removed]",
      "text/plain": [
       "<Figure size 432x288 with 6 Axes>"
      ]
     },
     "metadata": {
      "needs_background": "light"
     },
     "output_type": "display_data"
    },
    {
     "data": {
      "image/png": "[encoded data removed]",
      "text/plain": [
       "<Figure size 432x288 with 6 Axes>"
      ]
     },
     "metadata": {
      "needs_background": "light"
     },
     "output_type": "display_data"
    }
   ],
   "source": [
    "# Let's go ahead and analyse the distributions of these variables\n",
    "def analyse_continuous(df, var):\n",
    "    df = df.copy()\n",
    "    df[var].hist(bins=30)\n",
    "    #plt.ylabel('Number of houses')\n",
    "    #plt.xlabel(var)\n",
    "    #plt.title(var)\n",
    "    plt.show()\n",
    "\n",
    "for var in cont_vars:\n",
    "    analyse_continuous(data, cont_vars)"
   ]
  },
  {
   "cell_type": "code",
   "execution_count": 157,
   "metadata": {},
   "outputs": [
    {
     "data": {
      "text/plain": [
       "['Income (USD)',\n",
       " 'Customer Lifetime Value (USD)',\n",
       " 'Monthly Premium Auto (USD)',\n",
       " 'Months Since Policy Inception',\n",
       " 'Months Since Last Claim',\n",
       " 'Total Claim Amount (USD)']"
      ]
     },
     "execution_count": 157,
     "metadata": {},
     "output_type": "execute_result"
    }
   ],
   "source": [
    "cont_vars"
   ]
  },
  {
   "cell_type": "code",
   "execution_count": 156,
   "metadata": {
    "scrolled": true
   },
   "outputs": [
    {
     "data": {
      "image/png": "[encoded data removed]",
      "text/plain": [
       "<Figure size 432x288 with 1 Axes>"
      ]
     },
     "metadata": {
      "needs_background": "light"
     },
     "output_type": "display_data"
    },
    {
     "data": {
      "image/png": "[encoded data removed]",
      "text/plain": [
       "<Figure size 432x288 with 1 Axes>"
      ]
     },
     "metadata": {
      "needs_background": "light"
     },
     "output_type": "display_data"
    },
    {
     "data": {
      "image/png": "[encoded data removed]",
      "text/plain": [
       "<Figure size 432x288 with 1 Axes>"
      ]
     },
     "metadata": {
      "needs_background": "light"
     },
     "output_type": "display_data"
    }
   ],
   "source": [
    "data['Income (USD)'].hist(bins=30)\n",
    "#plt.ylabel('Income')\n",
    "plt.xlabel('Income')\n",
    "plt.title('Income')\n",
    "plt.show()\n",
    "\n",
    "data['Customer Lifetime Value (USD)'].hist(bins=30)\n",
    "#plt.ylabel('Income')\n",
    "plt.xlabel('Life Time Value')\n",
    "plt.title('Life Time Value')\n",
    "plt.show()\n",
    "\n",
    "data['Months Since Policy Inception'].hist(bins=30)\n",
    "#plt.ylabel('Income')\n",
    "plt.xlabel('Months Since Policy Inception')\n",
    "plt.title('Months Since Policy Inception')\n",
    "plt.show()\n",
    "\n"
   ]
  },
  {
   "cell_type": "code",
   "execution_count": 158,
   "metadata": {},
   "outputs": [
    {
     "data": {
      "text/plain": [
       "['State',\n",
       " 'Location Code',\n",
       " 'Gender',\n",
       " 'Marital Status',\n",
       " 'Education',\n",
       " 'Employment Status',\n",
       " 'Coverage',\n",
       " 'Policy Type',\n",
       " 'Policy',\n",
       " 'Sales Channel',\n",
       " 'Response',\n",
       " 'Renew Offer Type',\n",
       " 'Vehicle Class',\n",
       " 'Vehicle Size']"
      ]
     },
     "execution_count": 158,
     "metadata": {},
     "output_type": "execute_result"
    }
   ],
   "source": [
    "cat_vars"
   ]
  },
  {
   "cell_type": "code",
   "execution_count": 167,
   "metadata": {},
   "outputs": [
    {
     "data": {
      "text/plain": [
       "Text(0, 0.5, 'Frequency')"
      ]
     },
     "execution_count": 167,
     "metadata": {},
     "output_type": "execute_result"
    },
    {
     "data": {
      "image/png": "[encoded data removed]",
      "text/plain": [
       "<Figure size 432x288 with 1 Axes>"
      ]
     },
     "metadata": {
      "needs_background": "light"
     },
     "output_type": "display_data"
    }
   ],
   "source": [
    "fig, ax = plt.subplots()\n",
    "state_cat = data['State'].value_counts() \n",
    "# get x and y data \n",
    "points = state_cat.index \n",
    "frequency = state_cat.values \n",
    "# create bar chart \n",
    "ax.bar(points, frequency) \n",
    "# set title and labels \n",
    "ax.set_title('State') \n",
    "ax.set_xlabel('Points') \n",
    "ax.set_ylabel('Frequency')"
   ]
  },
  {
   "cell_type": "code",
   "execution_count": 169,
   "metadata": {},
   "outputs": [
    {
     "data": {
      "text/plain": [
       "Text(0, 0.5, 'Frequency')"
      ]
     },
     "execution_count": 169,
     "metadata": {},
     "output_type": "execute_result"
    },
    {
     "data": {
      "image/png": "[encoded data removed]",
      "text/plain": [
       "<Figure size 432x288 with 1 Axes>"
      ]
     },
     "metadata": {
      "needs_background": "light"
     },
     "output_type": "display_data"
    }
   ],
   "source": [
    "fig, ax = plt.subplots()\n",
    "coverage_cat = data['Coverage'].value_counts() \n",
    "# get x and y data \n",
    "points = coverage_cat.index \n",
    "frequency = coverage_cat.values \n",
    "# create bar chart \n",
    "ax.bar(points, frequency) \n",
    "# set title and labels \n",
    "ax.set_title('Coverage') \n",
    "ax.set_xlabel('Points') \n",
    "ax.set_ylabel('Frequency')"
   ]
  },
  {
   "cell_type": "code",
   "execution_count": 172,
   "metadata": {},
   "outputs": [
    {
     "data": {
      "text/plain": [
       "<matplotlib.axes._subplots.AxesSubplot at 0x1506bf7dc08>"
      ]
     },
     "execution_count": 172,
     "metadata": {},
     "output_type": "execute_result"
    },
    {
     "data": {
      "image/png": "[encoded data removed]",
      "text/plain": [
       "<Figure size 432x288 with 1 Axes>"
      ]
     },
     "metadata": {
      "needs_background": "light"
     },
     "output_type": "display_data"
    }
   ],
   "source": [
    "data['Marital Status'].value_counts().sort_index().plot.bar()"
   ]
  },
  {
   "cell_type": "code",
   "execution_count": 173,
   "metadata": {},
   "outputs": [
    {
     "data": {
      "text/plain": [
       "<matplotlib.axes._subplots.AxesSubplot at 0x15069124c88>"
      ]
     },
     "execution_count": 173,
     "metadata": {},
     "output_type": "execute_result"
    },
    {
     "data": {
      "image/png": "[encoded data removed]",
      "text/plain": [
       "<Figure size 432x288 with 1 Axes>"
      ]
     },
     "metadata": {
      "needs_background": "light"
     },
     "output_type": "display_data"
    }
   ],
   "source": [
    "data['Sales Channel'].value_counts().sort_index().plot.bar()"
   ]
  },
  {
   "cell_type": "code",
   "execution_count": 10,
   "metadata": {},
   "outputs": [],
   "source": [
    "import pandas_profiling\n",
    "from pandas_profiling import ProfileReport"
   ]
  },
  {
   "cell_type": "code",
   "execution_count": 23,
   "metadata": {},
   "outputs": [
    {
     "data": {
      "application/vnd.jupyter.widget-view+json": {
       "model_id": "04944070b45f4bc6bb43379fcd8d9bdd",
       "version_major": 2,
       "version_minor": 0
      },
      "text/plain": [
       "HBox(children=(FloatProgress(value=0.0, description='variables', max=24.0, style=ProgressStyle(description_wid…"
      ]
     },
     "metadata": {},
     "output_type": "display_data"
    },
    {
     "name": "stdout",
     "output_type": "stream",
     "text": [
      "\n"
     ]
    },
    {
     "data": {
      "application/vnd.jupyter.widget-view+json": {
       "model_id": "197471e78245433988621bd5dc717584",
       "version_major": 2,
       "version_minor": 0
      },
      "text/plain": [
       "HBox(children=(FloatProgress(value=0.0, description='correlations', max=6.0, style=ProgressStyle(description_w…"
      ]
     },
     "metadata": {},
     "output_type": "display_data"
    },
    {
     "name": "stdout",
     "output_type": "stream",
     "text": [
      "\n"
     ]
    },
    {
     "data": {
      "application/vnd.jupyter.widget-view+json": {
       "model_id": "26e0d20d1f0d47de8d5fa6aacae55101",
       "version_major": 2,
       "version_minor": 0
      },
      "text/plain": [
       "HBox(children=(FloatProgress(value=0.0, description='interactions [continuous]', max=25.0, style=ProgressStyle…"
      ]
     },
     "metadata": {},
     "output_type": "display_data"
    },
    {
     "name": "stdout",
     "output_type": "stream",
     "text": [
      "\n"
     ]
    },
    {
     "data": {
      "application/vnd.jupyter.widget-view+json": {
       "model_id": "c0c8afd0ab1346ab9cd4c0b8c9cb3351",
       "version_major": 2,
       "version_minor": 0
      },
      "text/plain": [
       "HBox(children=(FloatProgress(value=0.0, description='table', max=1.0, style=ProgressStyle(description_width='i…"
      ]
     },
     "metadata": {},
     "output_type": "display_data"
    },
    {
     "name": "stdout",
     "output_type": "stream",
     "text": [
      "\n"
     ]
    },
    {
     "data": {
      "application/vnd.jupyter.widget-view+json": {
       "model_id": "e96c74cf31814b6d957c81af3da6a360",
       "version_major": 2,
       "version_minor": 0
      },
      "text/plain": [
       "HBox(children=(FloatProgress(value=0.0, description='missing', max=2.0, style=ProgressStyle(description_width=…"
      ]
     },
     "metadata": {},
     "output_type": "display_data"
    },
    {
     "name": "stdout",
     "output_type": "stream",
     "text": [
      "\n"
     ]
    },
    {
     "data": {
      "application/vnd.jupyter.widget-view+json": {
       "model_id": "f4833be7c6d04a99be86cd885fe08043",
       "version_major": 2,
       "version_minor": 0
      },
      "text/plain": [
       "HBox(children=(FloatProgress(value=0.0, description='warnings', max=3.0, style=ProgressStyle(description_width…"
      ]
     },
     "metadata": {},
     "output_type": "display_data"
    },
    {
     "name": "stdout",
     "output_type": "stream",
     "text": [
      "\n"
     ]
    },
    {
     "data": {
      "application/vnd.jupyter.widget-view+json": {
       "model_id": "ede95f2ecb744f1494b3a8ee0ae38f0e",
       "version_major": 2,
       "version_minor": 0
      },
      "text/plain": [
       "HBox(children=(FloatProgress(value=0.0, description='package', max=1.0, style=ProgressStyle(description_width=…"
      ]
     },
     "metadata": {},
     "output_type": "display_data"
    },
    {
     "name": "stdout",
     "output_type": "stream",
     "text": [
      "\n"
     ]
    },
    {
     "data": {
      "application/vnd.jupyter.widget-view+json": {
       "model_id": "2e4f3cbcdcc0418d876a7d10aebfda68",
       "version_major": 2,
       "version_minor": 0
      },
      "text/plain": [
       "HBox(children=(FloatProgress(value=0.0, description='build report structure', max=1.0, style=ProgressStyle(des…"
      ]
     },
     "metadata": {},
     "output_type": "display_data"
    },
    {
     "name": "stdout",
     "output_type": "stream",
     "text": [
      "\n"
     ]
    }
   ],
   "source": [
    "prof = ProfileReport(data)\n",
    "prof.to_file(output_file='output.html')"
   ]
  },
  {
   "cell_type": "code",
   "execution_count": null,
   "metadata": {},
   "outputs": [],
   "source": []
  }
 ],
 "metadata": {
  "kernelspec": {
   "display_name": "Python 3",
   "language": "python",
   "name": "python3"
  },
  "language_info": {
   "codemirror_mode": {
    "name": "ipython",
    "version": 3
   },
   "file_extension": ".py",
   "mimetype": "text/x-python",
   "name": "python",
   "nbconvert_exporter": "python",
   "pygments_lexer": "ipython3",
   "version": "3.7.4"
  }
 },
 "nbformat": 4,
 "nbformat_minor": 2
}
